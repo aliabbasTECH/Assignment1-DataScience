{
 "cells": [
  {
   "cell_type": "markdown",
   "id": "98675d85",
   "metadata": {},
   "source": [
    "### Write a Python program to print the following string in a specific format (see the output).\n",
    "### Twinkle, twinkle, little star, How I wonder what you are! Up above the world so high, Like a diamond in the sky.\n",
    "\n",
    "### Twinkle, twinkle, little star, How I wonder what you are"
   ]
  },
  {
   "cell_type": "code",
   "execution_count": 1,
   "id": "5c136bdd",
   "metadata": {},
   "outputs": [
    {
     "name": "stdout",
     "output_type": "stream",
     "text": [
      "Twinkle, twinkle, little star,\n",
      "\tHow I wonder what you are!\n",
      "\t\tUp above the world so high,\n",
      "\t\tLike a diamond in the sky.\n",
      "Twinkle, twinkle, little star,\n",
      "\tHow I wonder what you are!\n"
     ]
    }
   ],
   "source": [
    "print(\"Twinkle, twinkle, little star,\" \"\\n\"+ \"\\t\"+ \n",
    "      \"How I wonder what you are!\" \"\\n\"+\"\\t\"+\"\\t\"+ \n",
    "      \"Up above the world so high,\" \"\\n\"+\"\\t\"+\"\\t\"+ \n",
    "      \"Like a diamond in the sky.\"  \"\\n\"+\n",
    "      \"Twinkle, twinkle, little star,\" \"\\n\"+\"\\t\"+ \n",
    "      \"How I wonder what you are!\")"
   ]
  },
  {
   "cell_type": "markdown",
   "id": "bf60dd3b",
   "metadata": {},
   "source": [
    "### 2 Write a Python program to get the Python version you are using"
   ]
  },
  {
   "cell_type": "code",
   "execution_count": 3,
   "id": "18e63f7d",
   "metadata": {},
   "outputs": [
    {
     "name": "stdout",
     "output_type": "stream",
     "text": [
      "Python version\n",
      "3.8.8 (default, Apr 13 2021, 15:08:03) [MSC v.1916 64 bit (AMD64)]\n"
     ]
    }
   ],
   "source": [
    "import sys\n",
    "print(\"Python version\")\n",
    "print (sys.version)"
   ]
  },
  {
   "cell_type": "markdown",
   "id": "3d0fbdb9",
   "metadata": {},
   "source": [
    "### 3 Write a Python program to display the current date and time."
   ]
  },
  {
   "cell_type": "code",
   "execution_count": 5,
   "id": "d270e63d",
   "metadata": {},
   "outputs": [
    {
     "name": "stdout",
     "output_type": "stream",
     "text": [
      "Current date and time :\n",
      "2022-01-01 19:48:56\n"
     ]
    }
   ],
   "source": [
    "import datetime\n",
    "now = datetime.datetime.now()\n",
    "print (\"Current date and time :\")\n",
    "print (now.strftime(\"%Y-%m-%d %H:%M:%S\"))"
   ]
  },
  {
   "cell_type": "markdown",
   "id": "103867ad",
   "metadata": {},
   "source": [
    "### 4 Write a Python program which accepts the radius of a circle from the user and computethe area."
   ]
  },
  {
   "cell_type": "code",
   "execution_count": 6,
   "id": "858c06fa",
   "metadata": {},
   "outputs": [
    {
     "name": "stdout",
     "output_type": "stream",
     "text": [
      "Enter radius:2\n",
      "12.56\n"
     ]
    }
   ],
   "source": [
    "radius = float(input(\"Enter radius:\"))\n",
    "pi = 3.14\n",
    "Area = pi * radius **2\n",
    "print(Area)"
   ]
  },
  {
   "cell_type": "markdown",
   "id": "81104bc2",
   "metadata": {},
   "source": [
    "### 5Write a Python program which accepts the user's first and last name and print them in reverse order with a space between them."
   ]
  },
  {
   "cell_type": "code",
   "execution_count": 7,
   "id": "7f690f08",
   "metadata": {},
   "outputs": [
    {
     "name": "stdout",
     "output_type": "stream",
     "text": [
      "What is your first name?:ali\n",
      "What is your last namet?abbas\n",
      "ila sabba\n"
     ]
    }
   ],
   "source": [
    "fname = input(\"What is your first name?:\")\n",
    "lname = input(\"What is your last namet?\")\n",
    "print(fname[::-1] + \" \" + lname[::-1])"
   ]
  },
  {
   "cell_type": "markdown",
   "id": "80b821a2",
   "metadata": {},
   "source": [
    "### 6 Write a python program which takes two inputs from user and print them addition"
   ]
  },
  {
   "cell_type": "code",
   "execution_count": 9,
   "id": "9c4aded9",
   "metadata": {},
   "outputs": [
    {
     "name": "stdout",
     "output_type": "stream",
     "text": [
      "enter first number: 2\n",
      "enter second number: 3\n",
      "sum: 5\n"
     ]
    }
   ],
   "source": [
    "a = int(input(\"enter first number: \"))\n",
    "b = int(input(\"enter second number: \"))\n",
    "sum = a + b\n",
    "print(\"sum:\", sum)"
   ]
  },
  {
   "cell_type": "code",
   "execution_count": null,
   "id": "b292bb36",
   "metadata": {},
   "outputs": [],
   "source": []
  }
 ],
 "metadata": {
  "kernelspec": {
   "display_name": "Python 3",
   "language": "python",
   "name": "python3"
  },
  "language_info": {
   "codemirror_mode": {
    "name": "ipython",
    "version": 3
   },
   "file_extension": ".py",
   "mimetype": "text/x-python",
   "name": "python",
   "nbconvert_exporter": "python",
   "pygments_lexer": "ipython3",
   "version": "3.8.8"
  }
 },
 "nbformat": 4,
 "nbformat_minor": 5
}
